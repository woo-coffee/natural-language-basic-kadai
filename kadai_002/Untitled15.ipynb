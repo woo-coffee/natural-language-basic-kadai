{
  "nbformat": 4,
  "nbformat_minor": 0,
  "metadata": {
    "colab": {
      "provenance": []
    },
    "kernelspec": {
      "name": "python3",
      "display_name": "Python 3"
    },
    "language_info": {
      "name": "python"
    }
  },
  "cells": [
    {
      "cell_type": "code",
      "source": [
        "from bs4 import BeautifulSoup\n",
        "from urllib import request\n",
        "\n",
        "url = 'https://www.aozora.gr.jp/cards/000148/files/2371_13943.html'\n",
        "response = request.urlopen(url)\n",
        "soup = BeautifulSoup(response, \"html.parser\")\n",
        "response.close()\n",
        "\n",
        "# すべての <div> を対象にしてみる（例として）\n",
        "divs = soup.find_all(\"div\")\n",
        "\n",
        "for div in divs:\n",
        "    print(div.get_text())  # テキストだけ抽出\n",
        "\n",
        "\n",
        "printi(\"近頃/は/大分方々/の/雑誌/から/談話/を/しろしろ/と/責め/られ/て/、/頭/が.がらん/に/なっ/た/から/、/当分/品切れ/の/看板/でも/懸け/たい/くらい/に/思っ/て/います/。\")"
      ],
      "metadata": {
        "colab": {
          "base_uri": "https://localhost:8080/",
          "height": 110
        },
        "id": "kJniKAcYm8c-",
        "outputId": "7a189d41-4cd5-4a27-b6cc-170a9d9089df"
      },
      "execution_count": 14,
      "outputs": [
        {
          "output_type": "error",
          "ename": "SyntaxError",
          "evalue": "invalid character '、' (U+3001) (<ipython-input-14-d990b12de321>, line 16)",
          "traceback": [
            "\u001b[0;36m  File \u001b[0;32m\"<ipython-input-14-d990b12de321>\"\u001b[0;36m, line \u001b[0;32m16\u001b[0m\n\u001b[0;31m    近頃/は/大分方々/の/雑誌/から/談話/を/しろしろ/と/責め/られ/て/、/頭/が.がらん/に/なっ/た/から/、/当分/品切れ/の/看板/でも/懸け/たい/くらい/に/思っ/て/います/。\u001b[0m\n\u001b[0m                                          ^\u001b[0m\n\u001b[0;31mSyntaxError\u001b[0m\u001b[0;31m:\u001b[0m invalid character '、' (U+3001)\n"
          ]
        }
      ]
    }
  ]
}